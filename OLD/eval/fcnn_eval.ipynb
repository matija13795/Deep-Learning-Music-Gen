{
 "cells": [
  {
   "cell_type": "code",
   "execution_count": 5,
   "id": "78e9101b",
   "metadata": {},
   "outputs": [],
   "source": [
    "import sys\n",
    "import os\n",
    "sys.path.append(os.path.abspath('..'))"
   ]
  },
  {
   "cell_type": "code",
   "execution_count": 8,
   "id": "2beb3cfa",
   "metadata": {},
   "outputs": [],
   "source": [
    "import torch\n",
    "from torch.utils.data import DataLoader, random_split\n",
    "from datasets.fcnn_dataset import FCNNDataset\n",
    "from models.fcnn import FCNN\n",
    "from utils.train import train_model, evaluate\n",
    "from preprocessing.main_preprocess import preprocess_abc_dataset\n",
    "import random\n",
    "import numpy as np\n",
    "\n",
    "# Set seed for reproducibility\n",
    "SEED = 42\n",
    "torch.manual_seed(SEED)\n",
    "\n",
    "# Device\n",
    "device = torch.device('cuda' if torch.cuda.is_available() else 'cpu')"
   ]
  },
  {
   "cell_type": "code",
   "execution_count": 10,
   "id": "09dc2507",
   "metadata": {},
   "outputs": [
    {
     "name": "stdout",
     "output_type": "stream",
     "text": [
      "Total raw tunes extracted: 1049\n",
      "Total tunes after cleaning: 1034\n",
      "Example melody: M:3/4 L:1/4 K:G e|:\"G\"d2B|\"D\"A3/2B/2c|\"G\"B2G|\n",
      "Example tokens: ['M:3/4', 'L:1/4', 'K:G', 'e', '|:', '\"G\"', 'd2', 'B', '|', '\"D\"', 'A3/2', 'B/2', 'c', '|', '\"G\"', 'B2', 'G', '|']\n",
      "Number of unique tokens: 440\n"
     ]
    }
   ],
   "source": [
    "# === 2. Load Data and Create Test Loader ===\n",
    "vocab, inv_vocab, indexed_melodies, token_freq, normalized_melodies = preprocess_abc_dataset(\"../data/\")\n",
    "WINDOW_SIZE = 16\n",
    "dataset = FCNNDataset(indexed_melodies, vocab, inv_vocab, WINDOW_SIZE)\n",
    "\n",
    "# Split using the same logic and seed\n",
    "train_size = int(0.8 * len(dataset))\n",
    "val_size = int(0.1 * len(dataset))\n",
    "test_size = len(dataset) - train_size - val_size\n",
    "generator = torch.Generator().manual_seed(SEED)\n",
    "_, _, test_ds = random_split(dataset, [train_size, val_size, test_size], generator=generator)\n",
    "\n",
    "test_loader = DataLoader(test_ds, batch_size=1024)"
   ]
  },
  {
   "cell_type": "code",
   "execution_count": 14,
   "id": "3c452e36",
   "metadata": {},
   "outputs": [
    {
     "name": "stderr",
     "output_type": "stream",
     "text": [
      "/tmp/ipykernel_31990/3409461989.py:3: FutureWarning: You are using `torch.load` with `weights_only=False` (the current default value), which uses the default pickle module implicitly. It is possible to construct malicious pickle data which will execute arbitrary code during unpickling (See https://github.com/pytorch/pytorch/blob/main/SECURITY.md#untrusted-models for more details). In a future release, the default value for `weights_only` will be flipped to `True`. This limits the functions that could be executed during unpickling. Arbitrary objects will no longer be allowed to be loaded via this mode unless they are explicitly allowlisted by the user via `torch.serialization.add_safe_globals`. We recommend you start setting `weights_only=True` for any use case where you don't have full control of the loaded file. Please open an issue on GitHub for any issues related to this experimental feature.\n",
      "  model.load_state_dict(torch.load('../saved_models/fcnn_model.pt', map_location=device))\n"
     ]
    },
    {
     "data": {
      "text/plain": [
       "FCNN(\n",
       "  (embedding): Embedding(440, 128)\n",
       "  (fc1): Linear(in_features=2432, out_features=512, bias=True)\n",
       "  (relu): ReLU()\n",
       "  (dropout): Dropout(p=0.5, inplace=False)\n",
       "  (fc2): Linear(in_features=512, out_features=440, bias=True)\n",
       ")"
      ]
     },
     "execution_count": 14,
     "metadata": {},
     "output_type": "execute_result"
    }
   ],
   "source": [
    "# === 3. Load the Trained Model ===\n",
    "model = FCNN(WINDOW_SIZE, vocab_size=len(vocab), embed_dim=128, hidden_dim=512, dropout=0.5).to(device)\n",
    "model.load_state_dict(torch.load('../saved_models/fcnn_model.pt', map_location=device))\n",
    "model.to(device)"
   ]
  },
  {
   "cell_type": "code",
   "execution_count": 15,
   "id": "d7ea288d",
   "metadata": {},
   "outputs": [
    {
     "name": "stdout",
     "output_type": "stream",
     "text": [
      "Test Loss: 1.8832\n"
     ]
    }
   ],
   "source": [
    "# === 4. Evaluate on Test Set ===\n",
    "\n",
    "loss_fn = torch.nn.CrossEntropyLoss()\n",
    "test_loss = evaluate(model, test_loader, loss_fn, device)\n",
    "print(f\"Test Loss: {test_loss:.4f}\")"
   ]
  },
  {
   "cell_type": "code",
   "execution_count": null,
   "id": "d673e08a",
   "metadata": {},
   "outputs": [
    {
     "name": "stdout",
     "output_type": "stream",
     "text": [
      "M:3/4L:1/4K:Gceg|\"C\"g2f/2e/2|\"G\"d3/2c/2B|\"D7\"AGA|\"G\"B2B|\"D7\"AGF|\"G\"GBG|\"G\"GBd|\"C\"e2e|\"G\"dBG|\"C\"edc|\"G\"B2B|\"D7\"ABA|\"G\"GBd|\"C\"e2e|\"G\"dBG|\"C\"edc|\"G\"B2B|\"D7\"ABA|\"G\"GBd|\"C\"e2e|\"G\"dBG|\"C\"edc|\"G\"B2B|\"D7\"ABA\n"
     ]
    }
   ],
   "source": [
    "# === 5. Generate Sample Music ===\n",
    "def generate_music_sample(model, loader, vocab, inv_vocab, num_tokens=100):\n",
    "    model.eval()\n",
    "    with torch.no_grad():\n",
    "        for batch_x, _ in loader:\n",
    "            batch_x = batch_x.to(device)\n",
    "            break\n",
    "\n",
    "        input_seq = batch_x[0].unsqueeze(0)  # shape: [1, seq_len]\n",
    "        generated = input_seq.clone()\n",
    "\n",
    "        context_tokens = input_seq[:, :3]  # M:, L:, K:\n",
    "        rolling_window = input_seq[:, 3:]  # actual melody\n",
    "\n",
    "        for _ in range(num_tokens):\n",
    "            rolling_window = generated[:, -WINDOW_SIZE:]  # keep last notes only\n",
    "            input_window = torch.cat((context_tokens, rolling_window), dim=1)\n",
    "\n",
    "            output = model(input_window)\n",
    "            next_token = torch.argmax(output, dim=-1).unsqueeze(1)\n",
    "            generated = torch.cat((generated, next_token), dim=1)\n",
    "\n",
    "        generated_tokens = [inv_vocab[idx.item()] for idx in generated[0]]\n",
    "        abc_sequence = ''.join(generated_tokens)\n",
    "\n",
    "    return abc_sequence\n",
    "\n",
    "generated_abc = generate_music_sample(model, test_loader, vocab, inv_vocab)\n",
    "print(generated_abc)"
   ]
  }
 ],
 "metadata": {
  "kernelspec": {
   "display_name": "music-gen",
   "language": "python",
   "name": "python3"
  },
  "language_info": {
   "codemirror_mode": {
    "name": "ipython",
    "version": 3
   },
   "file_extension": ".py",
   "mimetype": "text/x-python",
   "name": "python",
   "nbconvert_exporter": "python",
   "pygments_lexer": "ipython3",
   "version": "3.8.20"
  }
 },
 "nbformat": 4,
 "nbformat_minor": 5
}
