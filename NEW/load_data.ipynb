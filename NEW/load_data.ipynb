{
 "cells": [
  {
   "cell_type": "code",
   "execution_count": 5,
   "id": "9807b9c8",
   "metadata": {},
   "outputs": [
    {
     "name": "stdout",
     "output_type": "stream",
     "text": [
      "Wrote 34211 leadsheet songs to leadsheets.abc\n"
     ]
    }
   ],
   "source": [
    "import pandas as pd\n",
    "import requests\n",
    "\n",
    "# Load data\n",
    "train_df = pd.read_json(\"https://huggingface.co/datasets/sander-wood/irishman/resolve/main/train.json\")\n",
    "valid_df = pd.read_json(\"https://huggingface.co/datasets/sander-wood/irishman/resolve/main/validation.json\")\n",
    "\n",
    "# Load leadsheet IDs correctly\n",
    "leadsheet_ids_url = \"https://huggingface.co/datasets/sander-wood/irishman/resolve/main/leadsheet_ids.json\"\n",
    "leadsheet_ids_json = requests.get(leadsheet_ids_url).json()\n",
    "\n",
    "train_leadsheet_ids = set(leadsheet_ids_json[\"train\"])\n",
    "valid_leadsheet_ids = set(leadsheet_ids_json[\"validation\"])\n",
    "\n",
    "# Extract ID from abc text\n",
    "def extract_id(abc_text):\n",
    "    for line in abc_text.splitlines():\n",
    "        if line.startswith(\"X:\"):\n",
    "            return line[2:].strip()\n",
    "    return None\n",
    "\n",
    "# Add song IDs\n",
    "train_df[\"song_id\"] = train_df[\"abc notation\"].apply(extract_id)\n",
    "valid_df[\"song_id\"] = valid_df[\"abc notation\"].apply(extract_id)\n",
    "\n",
    "# Filter only the correct leadsheets from each split\n",
    "train_leadsheets = train_df[train_df[\"song_id\"].isin(train_leadsheet_ids)]\n",
    "valid_leadsheets = valid_df[valid_df[\"song_id\"].isin(valid_leadsheet_ids)]\n",
    "\n",
    "# Combine and save\n",
    "all_leadsheets = pd.concat([train_leadsheets, valid_leadsheets], ignore_index=True)\n",
    "abc_text = \"\\n\\n\".join(all_leadsheets[\"abc notation\"])\n",
    "\n",
    "with open(\"leadsheets.abc\", \"w\", encoding=\"utf-8\") as f:\n",
    "    f.write(abc_text)\n",
    "\n",
    "print(f\"Wrote {len(all_leadsheets)} leadsheet songs to leadsheets.abc\")\n"
   ]
  }
 ],
 "metadata": {
  "kernelspec": {
   "display_name": "music-gen",
   "language": "python",
   "name": "python3"
  },
  "language_info": {
   "codemirror_mode": {
    "name": "ipython",
    "version": 3
   },
   "file_extension": ".py",
   "mimetype": "text/x-python",
   "name": "python",
   "nbconvert_exporter": "python",
   "pygments_lexer": "ipython3",
   "version": "3.8.20"
  }
 },
 "nbformat": 4,
 "nbformat_minor": 5
}
