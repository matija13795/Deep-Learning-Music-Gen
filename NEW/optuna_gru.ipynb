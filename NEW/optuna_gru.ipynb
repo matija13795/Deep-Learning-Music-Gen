{
 "cells": [
  {
   "cell_type": "code",
   "execution_count": 1,
   "id": "0216434a",
   "metadata": {},
   "outputs": [],
   "source": [
    "import math\n",
    "from torch import nn\n",
    "from torch.utils.data import DataLoader\n",
    "from models import GRUModel\n",
    "\n",
    "def train_epoch(model: nn.Module, loader: DataLoader, loss_fn, opt, device):\n",
    "    model.train()\n",
    "    total_loss, tokens = 0.0, 0\n",
    "    for x, y in loader:\n",
    "        x, y = x.to(device), y.to(device)\n",
    "        opt.zero_grad(set_to_none=True)\n",
    "        logits = model(x)\n",
    "        loss = loss_fn(logits.reshape(-1, logits.size(-1)), y.reshape(-1))\n",
    "        loss.backward()\n",
    "        torch.nn.utils.clip_grad_norm_(model.parameters(), 1.0)\n",
    "        opt.step()\n",
    "        total_loss += loss.item() * y.numel()\n",
    "        tokens += y.numel()\n",
    "    return math.exp(total_loss / tokens) # perplexity\n",
    "\n",
    "\n",
    "def evaluate(model: nn.Module, loader: DataLoader, loss_fn, device):\n",
    "    model.eval()\n",
    "    total_loss, tokens = 0.0, 0\n",
    "    with torch.no_grad():\n",
    "        for x, y in loader:\n",
    "            x, y = x.to(device), y.to(device)\n",
    "            logits = model(x)\n",
    "            loss = loss_fn(logits.reshape(-1, logits.size(-1)), y.reshape(-1))\n",
    "            total_loss += loss.item() * y.numel()\n",
    "            tokens += y.numel()\n",
    "    return math.exp(total_loss / tokens)"
   ]
  },
  {
   "cell_type": "code",
   "execution_count": 2,
   "id": "db4e7132",
   "metadata": {},
   "outputs": [],
   "source": [
    "import torch, json, os, csv\n",
    "from torch.utils.data import random_split\n",
    "from tokenizer import ABCTokenizer\n",
    "from dataset   import LeadSheetDataset, collate_fn\n",
    "\n",
    "# Read raw ABC file\n",
    "with open(\"leadsheets.abc\", \"r\") as f:\n",
    "    raw_data = f.read()\n",
    "\n",
    "with open(\"cache/abc_maps.json\", \"r\", encoding=\"utf-8\") as f:\n",
    "    maps = json.load(f)\n",
    "\n",
    "chord_map  = maps[\"chord_map\"]\n",
    "header_map = maps[\"header_map\"]\n",
    "inline_map = maps[\"inline_map\"]\n",
    "\n",
    "tunes = raw_data.strip().split(\"\\n\\n\")\n",
    "tokenizer = ABCTokenizer(chord_map=chord_map, header_map=header_map, inline_hdr_map=inline_map)\n",
    "tokenizer.build_vocab(tunes)\n",
    "\n",
    "dataset = LeadSheetDataset(tunes, tokenizer)\n",
    "subset_size = int(0.2 * len(dataset))\n",
    "subset, _ = random_split(dataset, [subset_size, len(dataset) - subset_size], generator=torch.Generator().manual_seed(42))\n",
    "train_size = int(0.8 * len(subset))\n",
    "val_size = len(subset) - train_size\n",
    "train_ds, val_ds = random_split(subset, [train_size, val_size], generator=torch.Generator().manual_seed(42))\n",
    "\n",
    "pad_idx = tokenizer.stoi[tokenizer.pad_token]\n",
    "collate = lambda batch: collate_fn(batch, pad_idx)"
   ]
  },
  {
   "cell_type": "code",
   "execution_count": null,
   "id": "98e49906",
   "metadata": {},
   "outputs": [],
   "source": [
    "import optuna\n",
    "\n",
    "vocab_size = tokenizer.vocab_size()\n",
    "device = torch.device(\"cuda\" if torch.cuda.is_available() else \"cpu\")\n",
    "\n",
    "def objective(trial):\n",
    "    # Hyperparameters to explore\n",
    "    num_layers = trial.suggest_int('num_layers', 1, 2)\n",
    "    hidden_dim = trial.suggest_categorical('hidden_dim', [640, 768, 800])\n",
    "    embed_dim = trial.suggest_categorical('embed_dim', [256, 320, 384])\n",
    "    learning_rate = trial.suggest_float('lr', 5e-4, 1.2e-3, log=True)\n",
    "    weight_decay = 1e-4\n",
    "    if num_layers == 1:\n",
    "        dropout = 0.0\n",
    "    else:\n",
    "        dropout = trial.suggest_float('dropout', 0.0, 0.3)\n",
    "\n",
    "    batch_size = 16\n",
    "    train_loader = DataLoader(train_ds, batch_size=batch_size, shuffle=True, collate_fn=collate)\n",
    "    val_loader = DataLoader(val_ds, batch_size=batch_size, shuffle=False, collate_fn=collate)\n",
    "\n",
    "    # Model, Optimizer, Loss\n",
    "    model = GRUModel(\n",
    "        vocab_size=vocab_size,\n",
    "        embed_dim=embed_dim,\n",
    "        hidden_dim=hidden_dim,\n",
    "        num_layers=num_layers,\n",
    "        dropout=dropout,\n",
    "        pad_idx=pad_idx\n",
    "    ).to(device)\n",
    "\n",
    "    loss_fn = nn.CrossEntropyLoss(ignore_index=pad_idx)\n",
    "    optimizer = torch.optim.AdamW(model.parameters(), lr=learning_rate, weight_decay=weight_decay)\n",
    "\n",
    "    # Train for a small number of epochs\n",
    "    try:\n",
    "        for epoch in range(4):\n",
    "            train_epoch(model, train_loader, loss_fn, optimizer, device)\n",
    "            val_ppl = evaluate(model, val_loader, loss_fn, device)\n",
    "\n",
    "            # Report to Optuna\n",
    "            trial.report(val_ppl, epoch)\n",
    "\n",
    "            # Prune bad trials\n",
    "            if trial.should_prune():\n",
    "                raise optuna.TrialPruned()\n",
    "\n",
    "        return val_ppl\n",
    "\n",
    "    except RuntimeError as e:\n",
    "        print(\"OOM error: pruning trial.\")\n",
    "        raise optuna.TrialPruned()\n",
    "\n",
    "# -----------------------------------------------------------------------------------\n",
    "# SETUP STUDY\n",
    "pruner = optuna.pruners.MedianPruner(n_warmup_steps=2)\n",
    "study = optuna.create_study(direction=\"minimize\", study_name=\"gru_hyperparam_tuning\", pruner=pruner)\n",
    "study.optimize(objective, n_trials=25)\n",
    "\n",
    "# -----------------------------------------------------------------------------------\n",
    "# BEST PARAMETERS\n",
    "print(\"Best hyperparameters:\", study.best_params)\n",
    "print(\"Best validation perplexity:\", study.best_value)"
   ]
  },
  {
   "cell_type": "code",
   "execution_count": 25,
   "id": "7934940e",
   "metadata": {},
   "outputs": [
    {
     "name": "stdout",
     "output_type": "stream",
     "text": [
      "Best hyperparameters: {'num_layers': 2, 'hidden_dim': 800, 'embed_dim': 320, 'lr': 0.0009386283804842192, 'dropout': 0.12843562130373742}\n",
      "Best validation perplexity: 2.801684043847251\n"
     ]
    },
    {
     "data": {
      "text/html": [
       "<div>\n",
       "<style scoped>\n",
       "    .dataframe tbody tr th:only-of-type {\n",
       "        vertical-align: middle;\n",
       "    }\n",
       "\n",
       "    .dataframe tbody tr th {\n",
       "        vertical-align: top;\n",
       "    }\n",
       "\n",
       "    .dataframe thead th {\n",
       "        text-align: right;\n",
       "    }\n",
       "</style>\n",
       "<table border=\"1\" class=\"dataframe\">\n",
       "  <thead>\n",
       "    <tr style=\"text-align: right;\">\n",
       "      <th></th>\n",
       "      <th>number</th>\n",
       "      <th>value</th>\n",
       "      <th>datetime_start</th>\n",
       "      <th>datetime_complete</th>\n",
       "      <th>duration</th>\n",
       "      <th>params_dropout</th>\n",
       "      <th>params_embed_dim</th>\n",
       "      <th>params_hidden_dim</th>\n",
       "      <th>params_lr</th>\n",
       "      <th>params_num_layers</th>\n",
       "      <th>state</th>\n",
       "    </tr>\n",
       "  </thead>\n",
       "  <tbody>\n",
       "    <tr>\n",
       "      <th>0</th>\n",
       "      <td>0</td>\n",
       "      <td>2.916082</td>\n",
       "      <td>2025-04-26 22:06:58.243244</td>\n",
       "      <td>2025-04-26 22:08:47.350205</td>\n",
       "      <td>0 days 00:01:49.106961</td>\n",
       "      <td>NaN</td>\n",
       "      <td>384</td>\n",
       "      <td>640</td>\n",
       "      <td>0.001094</td>\n",
       "      <td>1</td>\n",
       "      <td>COMPLETE</td>\n",
       "    </tr>\n",
       "    <tr>\n",
       "      <th>1</th>\n",
       "      <td>1</td>\n",
       "      <td>2.833530</td>\n",
       "      <td>2025-04-26 22:08:47.351074</td>\n",
       "      <td>2025-04-26 22:13:36.761703</td>\n",
       "      <td>0 days 00:04:49.410629</td>\n",
       "      <td>0.243941</td>\n",
       "      <td>320</td>\n",
       "      <td>800</td>\n",
       "      <td>0.000768</td>\n",
       "      <td>2</td>\n",
       "      <td>COMPLETE</td>\n",
       "    </tr>\n",
       "    <tr>\n",
       "      <th>2</th>\n",
       "      <td>2</td>\n",
       "      <td>2.866726</td>\n",
       "      <td>2025-04-26 22:13:36.762630</td>\n",
       "      <td>2025-04-26 22:15:49.879968</td>\n",
       "      <td>0 days 00:02:13.117338</td>\n",
       "      <td>NaN</td>\n",
       "      <td>256</td>\n",
       "      <td>768</td>\n",
       "      <td>0.000931</td>\n",
       "      <td>1</td>\n",
       "      <td>COMPLETE</td>\n",
       "    </tr>\n",
       "    <tr>\n",
       "      <th>3</th>\n",
       "      <td>3</td>\n",
       "      <td>2.874386</td>\n",
       "      <td>2025-04-26 22:15:49.880850</td>\n",
       "      <td>2025-04-26 22:19:27.086270</td>\n",
       "      <td>0 days 00:03:37.205420</td>\n",
       "      <td>0.172700</td>\n",
       "      <td>256</td>\n",
       "      <td>640</td>\n",
       "      <td>0.000681</td>\n",
       "      <td>2</td>\n",
       "      <td>COMPLETE</td>\n",
       "    </tr>\n",
       "    <tr>\n",
       "      <th>4</th>\n",
       "      <td>4</td>\n",
       "      <td>2.827424</td>\n",
       "      <td>2025-04-26 22:19:27.087188</td>\n",
       "      <td>2025-04-26 22:24:00.548896</td>\n",
       "      <td>0 days 00:04:33.461708</td>\n",
       "      <td>0.039281</td>\n",
       "      <td>384</td>\n",
       "      <td>768</td>\n",
       "      <td>0.000750</td>\n",
       "      <td>2</td>\n",
       "      <td>COMPLETE</td>\n",
       "    </tr>\n",
       "    <tr>\n",
       "      <th>5</th>\n",
       "      <td>5</td>\n",
       "      <td>2.829983</td>\n",
       "      <td>2025-04-26 22:24:00.549870</td>\n",
       "      <td>2025-04-26 22:28:55.354307</td>\n",
       "      <td>0 days 00:04:54.804437</td>\n",
       "      <td>0.116808</td>\n",
       "      <td>384</td>\n",
       "      <td>800</td>\n",
       "      <td>0.001001</td>\n",
       "      <td>2</td>\n",
       "      <td>COMPLETE</td>\n",
       "    </tr>\n",
       "    <tr>\n",
       "      <th>6</th>\n",
       "      <td>6</td>\n",
       "      <td>2.985752</td>\n",
       "      <td>2025-04-26 22:28:55.355310</td>\n",
       "      <td>2025-04-26 22:31:39.992944</td>\n",
       "      <td>0 days 00:02:44.637634</td>\n",
       "      <td>0.092318</td>\n",
       "      <td>256</td>\n",
       "      <td>640</td>\n",
       "      <td>0.000624</td>\n",
       "      <td>2</td>\n",
       "      <td>PRUNED</td>\n",
       "    </tr>\n",
       "    <tr>\n",
       "      <th>7</th>\n",
       "      <td>7</td>\n",
       "      <td>2.958180</td>\n",
       "      <td>2025-04-26 22:31:39.993794</td>\n",
       "      <td>2025-04-26 22:35:06.822615</td>\n",
       "      <td>0 days 00:03:26.828821</td>\n",
       "      <td>0.037873</td>\n",
       "      <td>320</td>\n",
       "      <td>768</td>\n",
       "      <td>0.000589</td>\n",
       "      <td>2</td>\n",
       "      <td>PRUNED</td>\n",
       "    </tr>\n",
       "    <tr>\n",
       "      <th>8</th>\n",
       "      <td>8</td>\n",
       "      <td>2.813022</td>\n",
       "      <td>2025-04-26 22:35:06.823655</td>\n",
       "      <td>2025-04-26 22:39:40.443134</td>\n",
       "      <td>0 days 00:04:33.619479</td>\n",
       "      <td>0.274282</td>\n",
       "      <td>384</td>\n",
       "      <td>768</td>\n",
       "      <td>0.000838</td>\n",
       "      <td>2</td>\n",
       "      <td>COMPLETE</td>\n",
       "    </tr>\n",
       "    <tr>\n",
       "      <th>9</th>\n",
       "      <td>9</td>\n",
       "      <td>2.836137</td>\n",
       "      <td>2025-04-26 22:39:40.444073</td>\n",
       "      <td>2025-04-26 22:44:13.229032</td>\n",
       "      <td>0 days 00:04:32.784959</td>\n",
       "      <td>0.029345</td>\n",
       "      <td>320</td>\n",
       "      <td>768</td>\n",
       "      <td>0.000798</td>\n",
       "      <td>2</td>\n",
       "      <td>PRUNED</td>\n",
       "    </tr>\n",
       "    <tr>\n",
       "      <th>10</th>\n",
       "      <td>10</td>\n",
       "      <td>3.024508</td>\n",
       "      <td>2025-04-26 22:44:13.229832</td>\n",
       "      <td>2025-04-26 22:45:56.203891</td>\n",
       "      <td>0 days 00:01:42.974059</td>\n",
       "      <td>NaN</td>\n",
       "      <td>384</td>\n",
       "      <td>768</td>\n",
       "      <td>0.000538</td>\n",
       "      <td>1</td>\n",
       "      <td>PRUNED</td>\n",
       "    </tr>\n",
       "    <tr>\n",
       "      <th>11</th>\n",
       "      <td>11</td>\n",
       "      <td>2.912940</td>\n",
       "      <td>2025-04-26 22:45:56.204700</td>\n",
       "      <td>2025-04-26 22:49:21.776329</td>\n",
       "      <td>0 days 00:03:25.571629</td>\n",
       "      <td>0.272830</td>\n",
       "      <td>384</td>\n",
       "      <td>768</td>\n",
       "      <td>0.000839</td>\n",
       "      <td>2</td>\n",
       "      <td>PRUNED</td>\n",
       "    </tr>\n",
       "    <tr>\n",
       "      <th>12</th>\n",
       "      <td>12</td>\n",
       "      <td>2.821425</td>\n",
       "      <td>2025-04-26 22:49:21.777111</td>\n",
       "      <td>2025-04-26 22:53:55.537715</td>\n",
       "      <td>0 days 00:04:33.760604</td>\n",
       "      <td>0.197097</td>\n",
       "      <td>384</td>\n",
       "      <td>768</td>\n",
       "      <td>0.000716</td>\n",
       "      <td>2</td>\n",
       "      <td>COMPLETE</td>\n",
       "    </tr>\n",
       "    <tr>\n",
       "      <th>13</th>\n",
       "      <td>13</td>\n",
       "      <td>2.933470</td>\n",
       "      <td>2025-04-26 22:53:55.538597</td>\n",
       "      <td>2025-04-26 22:57:20.539259</td>\n",
       "      <td>0 days 00:03:25.000662</td>\n",
       "      <td>0.207446</td>\n",
       "      <td>384</td>\n",
       "      <td>768</td>\n",
       "      <td>0.000694</td>\n",
       "      <td>2</td>\n",
       "      <td>PRUNED</td>\n",
       "    </tr>\n",
       "    <tr>\n",
       "      <th>14</th>\n",
       "      <td>14</td>\n",
       "      <td>2.939185</td>\n",
       "      <td>2025-04-26 22:57:20.540043</td>\n",
       "      <td>2025-04-26 22:59:03.946558</td>\n",
       "      <td>0 days 00:01:43.406515</td>\n",
       "      <td>NaN</td>\n",
       "      <td>384</td>\n",
       "      <td>768</td>\n",
       "      <td>0.000894</td>\n",
       "      <td>1</td>\n",
       "      <td>PRUNED</td>\n",
       "    </tr>\n",
       "    <tr>\n",
       "      <th>15</th>\n",
       "      <td>15</td>\n",
       "      <td>2.937687</td>\n",
       "      <td>2025-04-26 22:59:03.947326</td>\n",
       "      <td>2025-04-26 23:02:42.007332</td>\n",
       "      <td>0 days 00:03:38.060006</td>\n",
       "      <td>0.294407</td>\n",
       "      <td>384</td>\n",
       "      <td>800</td>\n",
       "      <td>0.000673</td>\n",
       "      <td>2</td>\n",
       "      <td>PRUNED</td>\n",
       "    </tr>\n",
       "    <tr>\n",
       "      <th>16</th>\n",
       "      <td>16</td>\n",
       "      <td>2.915552</td>\n",
       "      <td>2025-04-26 23:02:42.008575</td>\n",
       "      <td>2025-04-26 23:06:06.966994</td>\n",
       "      <td>0 days 00:03:24.958419</td>\n",
       "      <td>0.220593</td>\n",
       "      <td>384</td>\n",
       "      <td>768</td>\n",
       "      <td>0.001190</td>\n",
       "      <td>2</td>\n",
       "      <td>PRUNED</td>\n",
       "    </tr>\n",
       "    <tr>\n",
       "      <th>17</th>\n",
       "      <td>17</td>\n",
       "      <td>3.032104</td>\n",
       "      <td>2025-04-26 23:06:06.968054</td>\n",
       "      <td>2025-04-26 23:07:48.810831</td>\n",
       "      <td>0 days 00:01:41.842777</td>\n",
       "      <td>NaN</td>\n",
       "      <td>384</td>\n",
       "      <td>768</td>\n",
       "      <td>0.000502</td>\n",
       "      <td>1</td>\n",
       "      <td>PRUNED</td>\n",
       "    </tr>\n",
       "    <tr>\n",
       "      <th>18</th>\n",
       "      <td>18</td>\n",
       "      <td>2.820325</td>\n",
       "      <td>2025-04-26 23:07:48.811591</td>\n",
       "      <td>2025-04-26 23:12:39.447027</td>\n",
       "      <td>0 days 00:04:50.635436</td>\n",
       "      <td>0.170348</td>\n",
       "      <td>320</td>\n",
       "      <td>800</td>\n",
       "      <td>0.000980</td>\n",
       "      <td>2</td>\n",
       "      <td>COMPLETE</td>\n",
       "    </tr>\n",
       "    <tr>\n",
       "      <th>19</th>\n",
       "      <td>19</td>\n",
       "      <td>2.812981</td>\n",
       "      <td>2025-04-26 23:12:39.448008</td>\n",
       "      <td>2025-04-26 23:17:28.828099</td>\n",
       "      <td>0 days 00:04:49.380091</td>\n",
       "      <td>0.132555</td>\n",
       "      <td>320</td>\n",
       "      <td>800</td>\n",
       "      <td>0.000992</td>\n",
       "      <td>2</td>\n",
       "      <td>COMPLETE</td>\n",
       "    </tr>\n",
       "    <tr>\n",
       "      <th>20</th>\n",
       "      <td>20</td>\n",
       "      <td>2.930268</td>\n",
       "      <td>2025-04-26 23:17:28.828994</td>\n",
       "      <td>2025-04-26 23:19:19.652257</td>\n",
       "      <td>0 days 00:01:50.823263</td>\n",
       "      <td>NaN</td>\n",
       "      <td>320</td>\n",
       "      <td>800</td>\n",
       "      <td>0.001066</td>\n",
       "      <td>1</td>\n",
       "      <td>PRUNED</td>\n",
       "    </tr>\n",
       "    <tr>\n",
       "      <th>21</th>\n",
       "      <td>21</td>\n",
       "      <td>2.801684</td>\n",
       "      <td>2025-04-26 23:19:19.653220</td>\n",
       "      <td>2025-04-26 23:24:09.838930</td>\n",
       "      <td>0 days 00:04:50.185710</td>\n",
       "      <td>0.128436</td>\n",
       "      <td>320</td>\n",
       "      <td>800</td>\n",
       "      <td>0.000939</td>\n",
       "      <td>2</td>\n",
       "      <td>COMPLETE</td>\n",
       "    </tr>\n",
       "    <tr>\n",
       "      <th>22</th>\n",
       "      <td>22</td>\n",
       "      <td>2.802268</td>\n",
       "      <td>2025-04-26 23:24:09.839870</td>\n",
       "      <td>2025-04-26 23:28:59.391652</td>\n",
       "      <td>0 days 00:04:49.551782</td>\n",
       "      <td>0.127558</td>\n",
       "      <td>320</td>\n",
       "      <td>800</td>\n",
       "      <td>0.000868</td>\n",
       "      <td>2</td>\n",
       "      <td>COMPLETE</td>\n",
       "    </tr>\n",
       "    <tr>\n",
       "      <th>23</th>\n",
       "      <td>23</td>\n",
       "      <td>2.805774</td>\n",
       "      <td>2025-04-26 23:28:59.392581</td>\n",
       "      <td>2025-04-26 23:33:49.068872</td>\n",
       "      <td>0 days 00:04:49.676291</td>\n",
       "      <td>0.120819</td>\n",
       "      <td>320</td>\n",
       "      <td>800</td>\n",
       "      <td>0.000879</td>\n",
       "      <td>2</td>\n",
       "      <td>COMPLETE</td>\n",
       "    </tr>\n",
       "    <tr>\n",
       "      <th>24</th>\n",
       "      <td>24</td>\n",
       "      <td>2.815244</td>\n",
       "      <td>2025-04-26 23:33:49.069841</td>\n",
       "      <td>2025-04-26 23:38:40.032155</td>\n",
       "      <td>0 days 00:04:50.962314</td>\n",
       "      <td>0.091446</td>\n",
       "      <td>320</td>\n",
       "      <td>800</td>\n",
       "      <td>0.000896</td>\n",
       "      <td>2</td>\n",
       "      <td>COMPLETE</td>\n",
       "    </tr>\n",
       "  </tbody>\n",
       "</table>\n",
       "</div>"
      ],
      "text/plain": [
       "    number     value             datetime_start          datetime_complete  \\\n",
       "0        0  2.916082 2025-04-26 22:06:58.243244 2025-04-26 22:08:47.350205   \n",
       "1        1  2.833530 2025-04-26 22:08:47.351074 2025-04-26 22:13:36.761703   \n",
       "2        2  2.866726 2025-04-26 22:13:36.762630 2025-04-26 22:15:49.879968   \n",
       "3        3  2.874386 2025-04-26 22:15:49.880850 2025-04-26 22:19:27.086270   \n",
       "4        4  2.827424 2025-04-26 22:19:27.087188 2025-04-26 22:24:00.548896   \n",
       "5        5  2.829983 2025-04-26 22:24:00.549870 2025-04-26 22:28:55.354307   \n",
       "6        6  2.985752 2025-04-26 22:28:55.355310 2025-04-26 22:31:39.992944   \n",
       "7        7  2.958180 2025-04-26 22:31:39.993794 2025-04-26 22:35:06.822615   \n",
       "8        8  2.813022 2025-04-26 22:35:06.823655 2025-04-26 22:39:40.443134   \n",
       "9        9  2.836137 2025-04-26 22:39:40.444073 2025-04-26 22:44:13.229032   \n",
       "10      10  3.024508 2025-04-26 22:44:13.229832 2025-04-26 22:45:56.203891   \n",
       "11      11  2.912940 2025-04-26 22:45:56.204700 2025-04-26 22:49:21.776329   \n",
       "12      12  2.821425 2025-04-26 22:49:21.777111 2025-04-26 22:53:55.537715   \n",
       "13      13  2.933470 2025-04-26 22:53:55.538597 2025-04-26 22:57:20.539259   \n",
       "14      14  2.939185 2025-04-26 22:57:20.540043 2025-04-26 22:59:03.946558   \n",
       "15      15  2.937687 2025-04-26 22:59:03.947326 2025-04-26 23:02:42.007332   \n",
       "16      16  2.915552 2025-04-26 23:02:42.008575 2025-04-26 23:06:06.966994   \n",
       "17      17  3.032104 2025-04-26 23:06:06.968054 2025-04-26 23:07:48.810831   \n",
       "18      18  2.820325 2025-04-26 23:07:48.811591 2025-04-26 23:12:39.447027   \n",
       "19      19  2.812981 2025-04-26 23:12:39.448008 2025-04-26 23:17:28.828099   \n",
       "20      20  2.930268 2025-04-26 23:17:28.828994 2025-04-26 23:19:19.652257   \n",
       "21      21  2.801684 2025-04-26 23:19:19.653220 2025-04-26 23:24:09.838930   \n",
       "22      22  2.802268 2025-04-26 23:24:09.839870 2025-04-26 23:28:59.391652   \n",
       "23      23  2.805774 2025-04-26 23:28:59.392581 2025-04-26 23:33:49.068872   \n",
       "24      24  2.815244 2025-04-26 23:33:49.069841 2025-04-26 23:38:40.032155   \n",
       "\n",
       "                 duration  params_dropout  params_embed_dim  \\\n",
       "0  0 days 00:01:49.106961             NaN               384   \n",
       "1  0 days 00:04:49.410629        0.243941               320   \n",
       "2  0 days 00:02:13.117338             NaN               256   \n",
       "3  0 days 00:03:37.205420        0.172700               256   \n",
       "4  0 days 00:04:33.461708        0.039281               384   \n",
       "5  0 days 00:04:54.804437        0.116808               384   \n",
       "6  0 days 00:02:44.637634        0.092318               256   \n",
       "7  0 days 00:03:26.828821        0.037873               320   \n",
       "8  0 days 00:04:33.619479        0.274282               384   \n",
       "9  0 days 00:04:32.784959        0.029345               320   \n",
       "10 0 days 00:01:42.974059             NaN               384   \n",
       "11 0 days 00:03:25.571629        0.272830               384   \n",
       "12 0 days 00:04:33.760604        0.197097               384   \n",
       "13 0 days 00:03:25.000662        0.207446               384   \n",
       "14 0 days 00:01:43.406515             NaN               384   \n",
       "15 0 days 00:03:38.060006        0.294407               384   \n",
       "16 0 days 00:03:24.958419        0.220593               384   \n",
       "17 0 days 00:01:41.842777             NaN               384   \n",
       "18 0 days 00:04:50.635436        0.170348               320   \n",
       "19 0 days 00:04:49.380091        0.132555               320   \n",
       "20 0 days 00:01:50.823263             NaN               320   \n",
       "21 0 days 00:04:50.185710        0.128436               320   \n",
       "22 0 days 00:04:49.551782        0.127558               320   \n",
       "23 0 days 00:04:49.676291        0.120819               320   \n",
       "24 0 days 00:04:50.962314        0.091446               320   \n",
       "\n",
       "    params_hidden_dim  params_lr  params_num_layers     state  \n",
       "0                 640   0.001094                  1  COMPLETE  \n",
       "1                 800   0.000768                  2  COMPLETE  \n",
       "2                 768   0.000931                  1  COMPLETE  \n",
       "3                 640   0.000681                  2  COMPLETE  \n",
       "4                 768   0.000750                  2  COMPLETE  \n",
       "5                 800   0.001001                  2  COMPLETE  \n",
       "6                 640   0.000624                  2    PRUNED  \n",
       "7                 768   0.000589                  2    PRUNED  \n",
       "8                 768   0.000838                  2  COMPLETE  \n",
       "9                 768   0.000798                  2    PRUNED  \n",
       "10                768   0.000538                  1    PRUNED  \n",
       "11                768   0.000839                  2    PRUNED  \n",
       "12                768   0.000716                  2  COMPLETE  \n",
       "13                768   0.000694                  2    PRUNED  \n",
       "14                768   0.000894                  1    PRUNED  \n",
       "15                800   0.000673                  2    PRUNED  \n",
       "16                768   0.001190                  2    PRUNED  \n",
       "17                768   0.000502                  1    PRUNED  \n",
       "18                800   0.000980                  2  COMPLETE  \n",
       "19                800   0.000992                  2  COMPLETE  \n",
       "20                800   0.001066                  1    PRUNED  \n",
       "21                800   0.000939                  2  COMPLETE  \n",
       "22                800   0.000868                  2  COMPLETE  \n",
       "23                800   0.000879                  2  COMPLETE  \n",
       "24                800   0.000896                  2  COMPLETE  "
      ]
     },
     "metadata": {},
     "output_type": "display_data"
    },
    {
     "data": {
      "application/vnd.plotly.v1+json": {
       "config": {
        "plotlyServerURL": "https://plot.ly"
       },
       "data": [
        {
         "cliponaxis": false,
         "hovertemplate": [
          "lr (FloatDistribution): 0.06657114382893259<extra></extra>",
          "embed_dim (CategoricalDistribution): 0.21797450041583585<extra></extra>",
          "num_layers (IntDistribution): 0.26277668006085686<extra></extra>",
          "hidden_dim (CategoricalDistribution): 0.4526776756943747<extra></extra>"
         ],
         "name": "Objective Value",
         "orientation": "h",
         "text": [
          "0.07",
          "0.22",
          "0.26",
          "0.45"
         ],
         "textposition": "outside",
         "type": "bar",
         "x": [
          0.06657114382893259,
          0.21797450041583585,
          0.26277668006085686,
          0.4526776756943747
         ],
         "y": [
          "lr",
          "embed_dim",
          "num_layers",
          "hidden_dim"
         ]
        }
       ],
       "layout": {
        "template": {
         "data": {
          "bar": [
           {
            "error_x": {
             "color": "#2a3f5f"
            },
            "error_y": {
             "color": "#2a3f5f"
            },
            "marker": {
             "line": {
              "color": "#E5ECF6",
              "width": 0.5
             },
             "pattern": {
              "fillmode": "overlay",
              "size": 10,
              "solidity": 0.2
             }
            },
            "type": "bar"
           }
          ],
          "barpolar": [
           {
            "marker": {
             "line": {
              "color": "#E5ECF6",
              "width": 0.5
             },
             "pattern": {
              "fillmode": "overlay",
              "size": 10,
              "solidity": 0.2
             }
            },
            "type": "barpolar"
           }
          ],
          "carpet": [
           {
            "aaxis": {
             "endlinecolor": "#2a3f5f",
             "gridcolor": "white",
             "linecolor": "white",
             "minorgridcolor": "white",
             "startlinecolor": "#2a3f5f"
            },
            "baxis": {
             "endlinecolor": "#2a3f5f",
             "gridcolor": "white",
             "linecolor": "white",
             "minorgridcolor": "white",
             "startlinecolor": "#2a3f5f"
            },
            "type": "carpet"
           }
          ],
          "choropleth": [
           {
            "colorbar": {
             "outlinewidth": 0,
             "ticks": ""
            },
            "type": "choropleth"
           }
          ],
          "contour": [
           {
            "colorbar": {
             "outlinewidth": 0,
             "ticks": ""
            },
            "colorscale": [
             [
              0,
              "#0d0887"
             ],
             [
              0.1111111111111111,
              "#46039f"
             ],
             [
              0.2222222222222222,
              "#7201a8"
             ],
             [
              0.3333333333333333,
              "#9c179e"
             ],
             [
              0.4444444444444444,
              "#bd3786"
             ],
             [
              0.5555555555555556,
              "#d8576b"
             ],
             [
              0.6666666666666666,
              "#ed7953"
             ],
             [
              0.7777777777777778,
              "#fb9f3a"
             ],
             [
              0.8888888888888888,
              "#fdca26"
             ],
             [
              1,
              "#f0f921"
             ]
            ],
            "type": "contour"
           }
          ],
          "contourcarpet": [
           {
            "colorbar": {
             "outlinewidth": 0,
             "ticks": ""
            },
            "type": "contourcarpet"
           }
          ],
          "heatmap": [
           {
            "colorbar": {
             "outlinewidth": 0,
             "ticks": ""
            },
            "colorscale": [
             [
              0,
              "#0d0887"
             ],
             [
              0.1111111111111111,
              "#46039f"
             ],
             [
              0.2222222222222222,
              "#7201a8"
             ],
             [
              0.3333333333333333,
              "#9c179e"
             ],
             [
              0.4444444444444444,
              "#bd3786"
             ],
             [
              0.5555555555555556,
              "#d8576b"
             ],
             [
              0.6666666666666666,
              "#ed7953"
             ],
             [
              0.7777777777777778,
              "#fb9f3a"
             ],
             [
              0.8888888888888888,
              "#fdca26"
             ],
             [
              1,
              "#f0f921"
             ]
            ],
            "type": "heatmap"
           }
          ],
          "heatmapgl": [
           {
            "colorbar": {
             "outlinewidth": 0,
             "ticks": ""
            },
            "colorscale": [
             [
              0,
              "#0d0887"
             ],
             [
              0.1111111111111111,
              "#46039f"
             ],
             [
              0.2222222222222222,
              "#7201a8"
             ],
             [
              0.3333333333333333,
              "#9c179e"
             ],
             [
              0.4444444444444444,
              "#bd3786"
             ],
             [
              0.5555555555555556,
              "#d8576b"
             ],
             [
              0.6666666666666666,
              "#ed7953"
             ],
             [
              0.7777777777777778,
              "#fb9f3a"
             ],
             [
              0.8888888888888888,
              "#fdca26"
             ],
             [
              1,
              "#f0f921"
             ]
            ],
            "type": "heatmapgl"
           }
          ],
          "histogram": [
           {
            "marker": {
             "pattern": {
              "fillmode": "overlay",
              "size": 10,
              "solidity": 0.2
             }
            },
            "type": "histogram"
           }
          ],
          "histogram2d": [
           {
            "colorbar": {
             "outlinewidth": 0,
             "ticks": ""
            },
            "colorscale": [
             [
              0,
              "#0d0887"
             ],
             [
              0.1111111111111111,
              "#46039f"
             ],
             [
              0.2222222222222222,
              "#7201a8"
             ],
             [
              0.3333333333333333,
              "#9c179e"
             ],
             [
              0.4444444444444444,
              "#bd3786"
             ],
             [
              0.5555555555555556,
              "#d8576b"
             ],
             [
              0.6666666666666666,
              "#ed7953"
             ],
             [
              0.7777777777777778,
              "#fb9f3a"
             ],
             [
              0.8888888888888888,
              "#fdca26"
             ],
             [
              1,
              "#f0f921"
             ]
            ],
            "type": "histogram2d"
           }
          ],
          "histogram2dcontour": [
           {
            "colorbar": {
             "outlinewidth": 0,
             "ticks": ""
            },
            "colorscale": [
             [
              0,
              "#0d0887"
             ],
             [
              0.1111111111111111,
              "#46039f"
             ],
             [
              0.2222222222222222,
              "#7201a8"
             ],
             [
              0.3333333333333333,
              "#9c179e"
             ],
             [
              0.4444444444444444,
              "#bd3786"
             ],
             [
              0.5555555555555556,
              "#d8576b"
             ],
             [
              0.6666666666666666,
              "#ed7953"
             ],
             [
              0.7777777777777778,
              "#fb9f3a"
             ],
             [
              0.8888888888888888,
              "#fdca26"
             ],
             [
              1,
              "#f0f921"
             ]
            ],
            "type": "histogram2dcontour"
           }
          ],
          "mesh3d": [
           {
            "colorbar": {
             "outlinewidth": 0,
             "ticks": ""
            },
            "type": "mesh3d"
           }
          ],
          "parcoords": [
           {
            "line": {
             "colorbar": {
              "outlinewidth": 0,
              "ticks": ""
             }
            },
            "type": "parcoords"
           }
          ],
          "pie": [
           {
            "automargin": true,
            "type": "pie"
           }
          ],
          "scatter": [
           {
            "fillpattern": {
             "fillmode": "overlay",
             "size": 10,
             "solidity": 0.2
            },
            "type": "scatter"
           }
          ],
          "scatter3d": [
           {
            "line": {
             "colorbar": {
              "outlinewidth": 0,
              "ticks": ""
             }
            },
            "marker": {
             "colorbar": {
              "outlinewidth": 0,
              "ticks": ""
             }
            },
            "type": "scatter3d"
           }
          ],
          "scattercarpet": [
           {
            "marker": {
             "colorbar": {
              "outlinewidth": 0,
              "ticks": ""
             }
            },
            "type": "scattercarpet"
           }
          ],
          "scattergeo": [
           {
            "marker": {
             "colorbar": {
              "outlinewidth": 0,
              "ticks": ""
             }
            },
            "type": "scattergeo"
           }
          ],
          "scattergl": [
           {
            "marker": {
             "colorbar": {
              "outlinewidth": 0,
              "ticks": ""
             }
            },
            "type": "scattergl"
           }
          ],
          "scattermapbox": [
           {
            "marker": {
             "colorbar": {
              "outlinewidth": 0,
              "ticks": ""
             }
            },
            "type": "scattermapbox"
           }
          ],
          "scatterpolar": [
           {
            "marker": {
             "colorbar": {
              "outlinewidth": 0,
              "ticks": ""
             }
            },
            "type": "scatterpolar"
           }
          ],
          "scatterpolargl": [
           {
            "marker": {
             "colorbar": {
              "outlinewidth": 0,
              "ticks": ""
             }
            },
            "type": "scatterpolargl"
           }
          ],
          "scatterternary": [
           {
            "marker": {
             "colorbar": {
              "outlinewidth": 0,
              "ticks": ""
             }
            },
            "type": "scatterternary"
           }
          ],
          "surface": [
           {
            "colorbar": {
             "outlinewidth": 0,
             "ticks": ""
            },
            "colorscale": [
             [
              0,
              "#0d0887"
             ],
             [
              0.1111111111111111,
              "#46039f"
             ],
             [
              0.2222222222222222,
              "#7201a8"
             ],
             [
              0.3333333333333333,
              "#9c179e"
             ],
             [
              0.4444444444444444,
              "#bd3786"
             ],
             [
              0.5555555555555556,
              "#d8576b"
             ],
             [
              0.6666666666666666,
              "#ed7953"
             ],
             [
              0.7777777777777778,
              "#fb9f3a"
             ],
             [
              0.8888888888888888,
              "#fdca26"
             ],
             [
              1,
              "#f0f921"
             ]
            ],
            "type": "surface"
           }
          ],
          "table": [
           {
            "cells": {
             "fill": {
              "color": "#EBF0F8"
             },
             "line": {
              "color": "white"
             }
            },
            "header": {
             "fill": {
              "color": "#C8D4E3"
             },
             "line": {
              "color": "white"
             }
            },
            "type": "table"
           }
          ]
         },
         "layout": {
          "annotationdefaults": {
           "arrowcolor": "#2a3f5f",
           "arrowhead": 0,
           "arrowwidth": 1
          },
          "autotypenumbers": "strict",
          "coloraxis": {
           "colorbar": {
            "outlinewidth": 0,
            "ticks": ""
           }
          },
          "colorscale": {
           "diverging": [
            [
             0,
             "#8e0152"
            ],
            [
             0.1,
             "#c51b7d"
            ],
            [
             0.2,
             "#de77ae"
            ],
            [
             0.3,
             "#f1b6da"
            ],
            [
             0.4,
             "#fde0ef"
            ],
            [
             0.5,
             "#f7f7f7"
            ],
            [
             0.6,
             "#e6f5d0"
            ],
            [
             0.7,
             "#b8e186"
            ],
            [
             0.8,
             "#7fbc41"
            ],
            [
             0.9,
             "#4d9221"
            ],
            [
             1,
             "#276419"
            ]
           ],
           "sequential": [
            [
             0,
             "#0d0887"
            ],
            [
             0.1111111111111111,
             "#46039f"
            ],
            [
             0.2222222222222222,
             "#7201a8"
            ],
            [
             0.3333333333333333,
             "#9c179e"
            ],
            [
             0.4444444444444444,
             "#bd3786"
            ],
            [
             0.5555555555555556,
             "#d8576b"
            ],
            [
             0.6666666666666666,
             "#ed7953"
            ],
            [
             0.7777777777777778,
             "#fb9f3a"
            ],
            [
             0.8888888888888888,
             "#fdca26"
            ],
            [
             1,
             "#f0f921"
            ]
           ],
           "sequentialminus": [
            [
             0,
             "#0d0887"
            ],
            [
             0.1111111111111111,
             "#46039f"
            ],
            [
             0.2222222222222222,
             "#7201a8"
            ],
            [
             0.3333333333333333,
             "#9c179e"
            ],
            [
             0.4444444444444444,
             "#bd3786"
            ],
            [
             0.5555555555555556,
             "#d8576b"
            ],
            [
             0.6666666666666666,
             "#ed7953"
            ],
            [
             0.7777777777777778,
             "#fb9f3a"
            ],
            [
             0.8888888888888888,
             "#fdca26"
            ],
            [
             1,
             "#f0f921"
            ]
           ]
          },
          "colorway": [
           "#636efa",
           "#EF553B",
           "#00cc96",
           "#ab63fa",
           "#FFA15A",
           "#19d3f3",
           "#FF6692",
           "#B6E880",
           "#FF97FF",
           "#FECB52"
          ],
          "font": {
           "color": "#2a3f5f"
          },
          "geo": {
           "bgcolor": "white",
           "lakecolor": "white",
           "landcolor": "#E5ECF6",
           "showlakes": true,
           "showland": true,
           "subunitcolor": "white"
          },
          "hoverlabel": {
           "align": "left"
          },
          "hovermode": "closest",
          "mapbox": {
           "style": "light"
          },
          "paper_bgcolor": "white",
          "plot_bgcolor": "#E5ECF6",
          "polar": {
           "angularaxis": {
            "gridcolor": "white",
            "linecolor": "white",
            "ticks": ""
           },
           "bgcolor": "#E5ECF6",
           "radialaxis": {
            "gridcolor": "white",
            "linecolor": "white",
            "ticks": ""
           }
          },
          "scene": {
           "xaxis": {
            "backgroundcolor": "#E5ECF6",
            "gridcolor": "white",
            "gridwidth": 2,
            "linecolor": "white",
            "showbackground": true,
            "ticks": "",
            "zerolinecolor": "white"
           },
           "yaxis": {
            "backgroundcolor": "#E5ECF6",
            "gridcolor": "white",
            "gridwidth": 2,
            "linecolor": "white",
            "showbackground": true,
            "ticks": "",
            "zerolinecolor": "white"
           },
           "zaxis": {
            "backgroundcolor": "#E5ECF6",
            "gridcolor": "white",
            "gridwidth": 2,
            "linecolor": "white",
            "showbackground": true,
            "ticks": "",
            "zerolinecolor": "white"
           }
          },
          "shapedefaults": {
           "line": {
            "color": "#2a3f5f"
           }
          },
          "ternary": {
           "aaxis": {
            "gridcolor": "white",
            "linecolor": "white",
            "ticks": ""
           },
           "baxis": {
            "gridcolor": "white",
            "linecolor": "white",
            "ticks": ""
           },
           "bgcolor": "#E5ECF6",
           "caxis": {
            "gridcolor": "white",
            "linecolor": "white",
            "ticks": ""
           }
          },
          "title": {
           "x": 0.05
          },
          "xaxis": {
           "automargin": true,
           "gridcolor": "white",
           "linecolor": "white",
           "ticks": "",
           "title": {
            "standoff": 15
           },
           "zerolinecolor": "white",
           "zerolinewidth": 2
          },
          "yaxis": {
           "automargin": true,
           "gridcolor": "white",
           "linecolor": "white",
           "ticks": "",
           "title": {
            "standoff": 15
           },
           "zerolinecolor": "white",
           "zerolinewidth": 2
          }
         }
        },
        "title": {
         "text": "Hyperparameter Importances"
        },
        "xaxis": {
         "title": {
          "text": "Hyperparameter Importance"
         }
        },
        "yaxis": {
         "title": {
          "text": "Hyperparameter"
         }
        }
       }
      },
      "text/html": [
       "<div>                            <div id=\"b815099a-32d4-4051-bc1f-c51acd295fe8\" class=\"plotly-graph-div\" style=\"height:525px; width:100%;\"></div>            <script type=\"text/javascript\">                require([\"plotly\"], function(Plotly) {                    window.PLOTLYENV=window.PLOTLYENV || {};                                    if (document.getElementById(\"b815099a-32d4-4051-bc1f-c51acd295fe8\")) {                    Plotly.newPlot(                        \"b815099a-32d4-4051-bc1f-c51acd295fe8\",                        [{\"cliponaxis\":false,\"hovertemplate\":[\"lr (FloatDistribution): 0.06657114382893259\\u003cextra\\u003e\\u003c\\u002fextra\\u003e\",\"embed_dim (CategoricalDistribution): 0.21797450041583585\\u003cextra\\u003e\\u003c\\u002fextra\\u003e\",\"num_layers (IntDistribution): 0.26277668006085686\\u003cextra\\u003e\\u003c\\u002fextra\\u003e\",\"hidden_dim (CategoricalDistribution): 0.4526776756943747\\u003cextra\\u003e\\u003c\\u002fextra\\u003e\"],\"name\":\"Objective Value\",\"orientation\":\"h\",\"text\":[\"0.07\",\"0.22\",\"0.26\",\"0.45\"],\"textposition\":\"outside\",\"x\":[0.06657114382893259,0.21797450041583585,0.26277668006085686,0.4526776756943747],\"y\":[\"lr\",\"embed_dim\",\"num_layers\",\"hidden_dim\"],\"type\":\"bar\"}],                        {\"title\":{\"text\":\"Hyperparameter Importances\"},\"xaxis\":{\"title\":{\"text\":\"Hyperparameter Importance\"}},\"yaxis\":{\"title\":{\"text\":\"Hyperparameter\"}},\"template\":{\"data\":{\"histogram2dcontour\":[{\"type\":\"histogram2dcontour\",\"colorbar\":{\"outlinewidth\":0,\"ticks\":\"\"},\"colorscale\":[[0.0,\"#0d0887\"],[0.1111111111111111,\"#46039f\"],[0.2222222222222222,\"#7201a8\"],[0.3333333333333333,\"#9c179e\"],[0.4444444444444444,\"#bd3786\"],[0.5555555555555556,\"#d8576b\"],[0.6666666666666666,\"#ed7953\"],[0.7777777777777778,\"#fb9f3a\"],[0.8888888888888888,\"#fdca26\"],[1.0,\"#f0f921\"]]}],\"choropleth\":[{\"type\":\"choropleth\",\"colorbar\":{\"outlinewidth\":0,\"ticks\":\"\"}}],\"histogram2d\":[{\"type\":\"histogram2d\",\"colorbar\":{\"outlinewidth\":0,\"ticks\":\"\"},\"colorscale\":[[0.0,\"#0d0887\"],[0.1111111111111111,\"#46039f\"],[0.2222222222222222,\"#7201a8\"],[0.3333333333333333,\"#9c179e\"],[0.4444444444444444,\"#bd3786\"],[0.5555555555555556,\"#d8576b\"],[0.6666666666666666,\"#ed7953\"],[0.7777777777777778,\"#fb9f3a\"],[0.8888888888888888,\"#fdca26\"],[1.0,\"#f0f921\"]]}],\"heatmap\":[{\"type\":\"heatmap\",\"colorbar\":{\"outlinewidth\":0,\"ticks\":\"\"},\"colorscale\":[[0.0,\"#0d0887\"],[0.1111111111111111,\"#46039f\"],[0.2222222222222222,\"#7201a8\"],[0.3333333333333333,\"#9c179e\"],[0.4444444444444444,\"#bd3786\"],[0.5555555555555556,\"#d8576b\"],[0.6666666666666666,\"#ed7953\"],[0.7777777777777778,\"#fb9f3a\"],[0.8888888888888888,\"#fdca26\"],[1.0,\"#f0f921\"]]}],\"heatmapgl\":[{\"type\":\"heatmapgl\",\"colorbar\":{\"outlinewidth\":0,\"ticks\":\"\"},\"colorscale\":[[0.0,\"#0d0887\"],[0.1111111111111111,\"#46039f\"],[0.2222222222222222,\"#7201a8\"],[0.3333333333333333,\"#9c179e\"],[0.4444444444444444,\"#bd3786\"],[0.5555555555555556,\"#d8576b\"],[0.6666666666666666,\"#ed7953\"],[0.7777777777777778,\"#fb9f3a\"],[0.8888888888888888,\"#fdca26\"],[1.0,\"#f0f921\"]]}],\"contourcarpet\":[{\"type\":\"contourcarpet\",\"colorbar\":{\"outlinewidth\":0,\"ticks\":\"\"}}],\"contour\":[{\"type\":\"contour\",\"colorbar\":{\"outlinewidth\":0,\"ticks\":\"\"},\"colorscale\":[[0.0,\"#0d0887\"],[0.1111111111111111,\"#46039f\"],[0.2222222222222222,\"#7201a8\"],[0.3333333333333333,\"#9c179e\"],[0.4444444444444444,\"#bd3786\"],[0.5555555555555556,\"#d8576b\"],[0.6666666666666666,\"#ed7953\"],[0.7777777777777778,\"#fb9f3a\"],[0.8888888888888888,\"#fdca26\"],[1.0,\"#f0f921\"]]}],\"surface\":[{\"type\":\"surface\",\"colorbar\":{\"outlinewidth\":0,\"ticks\":\"\"},\"colorscale\":[[0.0,\"#0d0887\"],[0.1111111111111111,\"#46039f\"],[0.2222222222222222,\"#7201a8\"],[0.3333333333333333,\"#9c179e\"],[0.4444444444444444,\"#bd3786\"],[0.5555555555555556,\"#d8576b\"],[0.6666666666666666,\"#ed7953\"],[0.7777777777777778,\"#fb9f3a\"],[0.8888888888888888,\"#fdca26\"],[1.0,\"#f0f921\"]]}],\"mesh3d\":[{\"type\":\"mesh3d\",\"colorbar\":{\"outlinewidth\":0,\"ticks\":\"\"}}],\"scatter\":[{\"fillpattern\":{\"fillmode\":\"overlay\",\"size\":10,\"solidity\":0.2},\"type\":\"scatter\"}],\"parcoords\":[{\"type\":\"parcoords\",\"line\":{\"colorbar\":{\"outlinewidth\":0,\"ticks\":\"\"}}}],\"scatterpolargl\":[{\"type\":\"scatterpolargl\",\"marker\":{\"colorbar\":{\"outlinewidth\":0,\"ticks\":\"\"}}}],\"bar\":[{\"error_x\":{\"color\":\"#2a3f5f\"},\"error_y\":{\"color\":\"#2a3f5f\"},\"marker\":{\"line\":{\"color\":\"#E5ECF6\",\"width\":0.5},\"pattern\":{\"fillmode\":\"overlay\",\"size\":10,\"solidity\":0.2}},\"type\":\"bar\"}],\"scattergeo\":[{\"type\":\"scattergeo\",\"marker\":{\"colorbar\":{\"outlinewidth\":0,\"ticks\":\"\"}}}],\"scatterpolar\":[{\"type\":\"scatterpolar\",\"marker\":{\"colorbar\":{\"outlinewidth\":0,\"ticks\":\"\"}}}],\"histogram\":[{\"marker\":{\"pattern\":{\"fillmode\":\"overlay\",\"size\":10,\"solidity\":0.2}},\"type\":\"histogram\"}],\"scattergl\":[{\"type\":\"scattergl\",\"marker\":{\"colorbar\":{\"outlinewidth\":0,\"ticks\":\"\"}}}],\"scatter3d\":[{\"type\":\"scatter3d\",\"line\":{\"colorbar\":{\"outlinewidth\":0,\"ticks\":\"\"}},\"marker\":{\"colorbar\":{\"outlinewidth\":0,\"ticks\":\"\"}}}],\"scattermapbox\":[{\"type\":\"scattermapbox\",\"marker\":{\"colorbar\":{\"outlinewidth\":0,\"ticks\":\"\"}}}],\"scatterternary\":[{\"type\":\"scatterternary\",\"marker\":{\"colorbar\":{\"outlinewidth\":0,\"ticks\":\"\"}}}],\"scattercarpet\":[{\"type\":\"scattercarpet\",\"marker\":{\"colorbar\":{\"outlinewidth\":0,\"ticks\":\"\"}}}],\"carpet\":[{\"aaxis\":{\"endlinecolor\":\"#2a3f5f\",\"gridcolor\":\"white\",\"linecolor\":\"white\",\"minorgridcolor\":\"white\",\"startlinecolor\":\"#2a3f5f\"},\"baxis\":{\"endlinecolor\":\"#2a3f5f\",\"gridcolor\":\"white\",\"linecolor\":\"white\",\"minorgridcolor\":\"white\",\"startlinecolor\":\"#2a3f5f\"},\"type\":\"carpet\"}],\"table\":[{\"cells\":{\"fill\":{\"color\":\"#EBF0F8\"},\"line\":{\"color\":\"white\"}},\"header\":{\"fill\":{\"color\":\"#C8D4E3\"},\"line\":{\"color\":\"white\"}},\"type\":\"table\"}],\"barpolar\":[{\"marker\":{\"line\":{\"color\":\"#E5ECF6\",\"width\":0.5},\"pattern\":{\"fillmode\":\"overlay\",\"size\":10,\"solidity\":0.2}},\"type\":\"barpolar\"}],\"pie\":[{\"automargin\":true,\"type\":\"pie\"}]},\"layout\":{\"autotypenumbers\":\"strict\",\"colorway\":[\"#636efa\",\"#EF553B\",\"#00cc96\",\"#ab63fa\",\"#FFA15A\",\"#19d3f3\",\"#FF6692\",\"#B6E880\",\"#FF97FF\",\"#FECB52\"],\"font\":{\"color\":\"#2a3f5f\"},\"hovermode\":\"closest\",\"hoverlabel\":{\"align\":\"left\"},\"paper_bgcolor\":\"white\",\"plot_bgcolor\":\"#E5ECF6\",\"polar\":{\"bgcolor\":\"#E5ECF6\",\"angularaxis\":{\"gridcolor\":\"white\",\"linecolor\":\"white\",\"ticks\":\"\"},\"radialaxis\":{\"gridcolor\":\"white\",\"linecolor\":\"white\",\"ticks\":\"\"}},\"ternary\":{\"bgcolor\":\"#E5ECF6\",\"aaxis\":{\"gridcolor\":\"white\",\"linecolor\":\"white\",\"ticks\":\"\"},\"baxis\":{\"gridcolor\":\"white\",\"linecolor\":\"white\",\"ticks\":\"\"},\"caxis\":{\"gridcolor\":\"white\",\"linecolor\":\"white\",\"ticks\":\"\"}},\"coloraxis\":{\"colorbar\":{\"outlinewidth\":0,\"ticks\":\"\"}},\"colorscale\":{\"sequential\":[[0.0,\"#0d0887\"],[0.1111111111111111,\"#46039f\"],[0.2222222222222222,\"#7201a8\"],[0.3333333333333333,\"#9c179e\"],[0.4444444444444444,\"#bd3786\"],[0.5555555555555556,\"#d8576b\"],[0.6666666666666666,\"#ed7953\"],[0.7777777777777778,\"#fb9f3a\"],[0.8888888888888888,\"#fdca26\"],[1.0,\"#f0f921\"]],\"sequentialminus\":[[0.0,\"#0d0887\"],[0.1111111111111111,\"#46039f\"],[0.2222222222222222,\"#7201a8\"],[0.3333333333333333,\"#9c179e\"],[0.4444444444444444,\"#bd3786\"],[0.5555555555555556,\"#d8576b\"],[0.6666666666666666,\"#ed7953\"],[0.7777777777777778,\"#fb9f3a\"],[0.8888888888888888,\"#fdca26\"],[1.0,\"#f0f921\"]],\"diverging\":[[0,\"#8e0152\"],[0.1,\"#c51b7d\"],[0.2,\"#de77ae\"],[0.3,\"#f1b6da\"],[0.4,\"#fde0ef\"],[0.5,\"#f7f7f7\"],[0.6,\"#e6f5d0\"],[0.7,\"#b8e186\"],[0.8,\"#7fbc41\"],[0.9,\"#4d9221\"],[1,\"#276419\"]]},\"xaxis\":{\"gridcolor\":\"white\",\"linecolor\":\"white\",\"ticks\":\"\",\"title\":{\"standoff\":15},\"zerolinecolor\":\"white\",\"automargin\":true,\"zerolinewidth\":2},\"yaxis\":{\"gridcolor\":\"white\",\"linecolor\":\"white\",\"ticks\":\"\",\"title\":{\"standoff\":15},\"zerolinecolor\":\"white\",\"automargin\":true,\"zerolinewidth\":2},\"scene\":{\"xaxis\":{\"backgroundcolor\":\"#E5ECF6\",\"gridcolor\":\"white\",\"linecolor\":\"white\",\"showbackground\":true,\"ticks\":\"\",\"zerolinecolor\":\"white\",\"gridwidth\":2},\"yaxis\":{\"backgroundcolor\":\"#E5ECF6\",\"gridcolor\":\"white\",\"linecolor\":\"white\",\"showbackground\":true,\"ticks\":\"\",\"zerolinecolor\":\"white\",\"gridwidth\":2},\"zaxis\":{\"backgroundcolor\":\"#E5ECF6\",\"gridcolor\":\"white\",\"linecolor\":\"white\",\"showbackground\":true,\"ticks\":\"\",\"zerolinecolor\":\"white\",\"gridwidth\":2}},\"shapedefaults\":{\"line\":{\"color\":\"#2a3f5f\"}},\"annotationdefaults\":{\"arrowcolor\":\"#2a3f5f\",\"arrowhead\":0,\"arrowwidth\":1},\"geo\":{\"bgcolor\":\"white\",\"landcolor\":\"#E5ECF6\",\"subunitcolor\":\"white\",\"showland\":true,\"showlakes\":true,\"lakecolor\":\"white\"},\"title\":{\"x\":0.05},\"mapbox\":{\"style\":\"light\"}}}},                        {\"responsive\": true}                    ).then(function(){\n",
       "                            \n",
       "var gd = document.getElementById('b815099a-32d4-4051-bc1f-c51acd295fe8');\n",
       "var x = new MutationObserver(function (mutations, observer) {{\n",
       "        var display = window.getComputedStyle(gd).display;\n",
       "        if (!display || display === 'none') {{\n",
       "            console.log([gd, 'removed!']);\n",
       "            Plotly.purge(gd);\n",
       "            observer.disconnect();\n",
       "        }}\n",
       "}});\n",
       "\n",
       "// Listen for the removal of the full notebook cells\n",
       "var notebookContainer = gd.closest('#notebook-container');\n",
       "if (notebookContainer) {{\n",
       "    x.observe(notebookContainer, {childList: true});\n",
       "}}\n",
       "\n",
       "// Listen for the clearing of the current output cell\n",
       "var outputEl = gd.closest('.output');\n",
       "if (outputEl) {{\n",
       "    x.observe(outputEl, {childList: true});\n",
       "}}\n",
       "\n",
       "                        })                };                });            </script>        </div>"
      ]
     },
     "metadata": {},
     "output_type": "display_data"
    }
   ],
   "source": [
    "import pandas as pd\n",
    "import optuna.visualization\n",
    "\n",
    "# Print best params\n",
    "print(\"Best hyperparameters:\", study.best_params)\n",
    "print(\"Best validation perplexity:\", study.best_value)\n",
    "\n",
    "# Full DataFrame of all trials\n",
    "df = study.trials_dataframe()\n",
    "display(df)\n",
    "\n",
    "# Optimization history plot\n",
    "optuna.visualization.plot_optimization_history(study)\n",
    "\n",
    "# Hyperparameter importance plot\n",
    "optuna.visualization.plot_param_importances(study)"
   ]
  },
  {
   "cell_type": "code",
   "execution_count": 26,
   "id": "3c0ac50f",
   "metadata": {},
   "outputs": [],
   "source": [
    "df.to_csv(\"optuna_trials2.csv\", index=False)\n",
    "import joblib\n",
    "joblib.dump(study, \"optuna_study2.pkl\")\n",
    "\n",
    "fig1 = optuna.visualization.plot_optimization_history(study)\n",
    "fig1.write_html(\"optimization_history2.html\")\n",
    "fig2 = optuna.visualization.plot_param_importances(study)\n",
    "fig2.write_html(\"param_importances2.html\")"
   ]
  }
 ],
 "metadata": {
  "kernelspec": {
   "display_name": "music-gen",
   "language": "python",
   "name": "python3"
  },
  "language_info": {
   "codemirror_mode": {
    "name": "ipython",
    "version": 3
   },
   "file_extension": ".py",
   "mimetype": "text/x-python",
   "name": "python",
   "nbconvert_exporter": "python",
   "pygments_lexer": "ipython3",
   "version": "3.8.20"
  }
 },
 "nbformat": 4,
 "nbformat_minor": 5
}
